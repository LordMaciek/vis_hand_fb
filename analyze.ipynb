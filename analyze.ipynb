{
 "cells": [
  {
   "cell_type": "code",
   "execution_count": null,
   "metadata": {},
   "outputs": [],
   "source": [
    "\"\"\"This sript reads xlsx files provided by Facebook with a glimpse of data on Visible Hand group.\n",
    "Each file consists of several sheets, where two are of interest for this analysis:\n",
    "a) Daily numbers, with data like date, number of new posts, etc\n",
    "b) top posts, where posts from last 28 days are collected.\"\"\""
   ]
  },
  {
   "cell_type": "code",
   "execution_count": 1,
   "metadata": {},
   "outputs": [],
   "source": [
    "# Import libraries\n",
    "\n",
    "import pandas as pd\n",
    "import os\n",
    "import googletrans as gt\n",
    "import matplotlib.pyplot as plt"
   ]
  },
  {
   "cell_type": "code",
   "execution_count": 13,
   "metadata": {},
   "outputs": [
    {
     "name": "stdout",
     "output_type": "stream",
     "text": [
      "Index(['Date', 'Posts', 'Comments', 'Reactions', 'Active members',\n",
      "       'Total members', 'Pending members', 'Approved member requests',\n",
      "       'Declined member requests'],\n",
      "      dtype='object')\n"
     ]
    },
    {
     "data": {
      "image/png": "[encoded data removed]",
      "text/plain": [
       "<Figure size 432x288 with 1 Axes>"
      ]
     },
     "metadata": {
      "needs_background": "light"
     },
     "output_type": "display_data"
    }
   ],
   "source": [
    "# Reading the first file, and ploting interest plot for posts, comments and reactions\n",
    "\n",
    "glimpse = pd.read_excel(\"data/Facebook_Group_Insights_10-25-2020.xlsx\", sheet_name=\"Daily numbers\")\n",
    "print(glimpse.columns)\n",
    "glimpse.head()\n",
    "glimpse.plot(kind=\"bar\", x=\"Date\", y=[\"Posts\", \"Comments\", \"Reactions\"])\n",
    "plt.show()"
   ]
  }
 ],
 "metadata": {
  "kernelspec": {
   "display_name": "Python 3",
   "language": "python",
   "name": "python3"
  },
  "language_info": {
   "codemirror_mode": {
    "name": "ipython",
    "version": 3
   },
   "file_extension": ".py",
   "mimetype": "text/x-python",
   "name": "python",
   "nbconvert_exporter": "python",
   "pygments_lexer": "ipython3",
   "version": "3.8.5"
  }
 },
 "nbformat": 4,
 "nbformat_minor": 4
}
