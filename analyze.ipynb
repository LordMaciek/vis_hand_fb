{
 "cells": [
  {
   "cell_type": "code",
   "execution_count": 1,
   "metadata": {},
   "outputs": [
    {
     "data": {
      "text/plain": [
       "'This sript reads xlsx files provided by Facebook with a glimpse of data on Visible Hand group.\\nEach file consists of several sheets, where two are of interest for this analysis:\\na) Daily numbers, with data like date, number of new posts, etc\\nb) top posts, where posts from last 28 days are collected.'"
      ]
     },
     "execution_count": 1,
     "metadata": {},
     "output_type": "execute_result"
    }
   ],
   "source": [
    "\"\"\"This sript reads xlsx files provided by Facebook with a glimpse of data on Visible Hand group.\n",
    "Each file consists of several sheets, where two are of interest for this analysis:\n",
    "a) Daily numbers, with data like date, number of new posts, etc\n",
    "b) top posts, where posts from last 28 days are collected.\"\"\""
   ]
  },
  {
   "cell_type": "code",
   "execution_count": 47,
   "metadata": {},
   "outputs": [
    {
     "name": "stderr",
     "output_type": "stream",
     "text": [
      "[nltk_data] Downloading package stopwords to /home/maciek/nltk_data...\n",
      "[nltk_data]   Package stopwords is already up-to-date!\n",
      "[nltk_data] Downloading package punkt to /home/maciek/nltk_data...\n",
      "[nltk_data]   Package punkt is already up-to-date!\n"
     ]
    }
   ],
   "source": [
    "# Import libraries\n",
    "\n",
    "import pandas as pd\n",
    "import os\n",
    "import googletrans as gt\n",
    "import matplotlib.pyplot as plt\n",
    "from googletrans import Translator\n",
    "from collections import Counter\n",
    "import nltk\n",
    "nltk.download('stopwords')\n",
    "nltk.download('punkt')\n",
    "from nltk.corpus import stopwords\n",
    "from nltk.tokenize import word_tokenize"
   ]
  },
  {
   "cell_type": "code",
   "execution_count": 3,
   "metadata": {},
   "outputs": [
    {
     "name": "stdout",
     "output_type": "stream",
     "text": [
      "Index(['Date', 'Posts', 'Comments', 'Reactions', 'Active members',\n",
      "       'Total members', 'Pending members', 'Approved member requests',\n",
      "       'Declined member requests'],\n",
      "      dtype='object')\n"
     ]
    },
    {
     "data": {
      "image/png": "[encoded data removed]",
      "text/plain": [
       "<Figure size 432x288 with 1 Axes>"
      ]
     },
     "metadata": {
      "needs_background": "light"
     },
     "output_type": "display_data"
    }
   ],
   "source": [
    "# Reading the first file, and ploting posts, comments and reactions over time\n",
    "\n",
    "glimpse = pd.read_excel(\"data/Facebook_Group_Insights_10-25-2020.xlsx\", sheet_name=\"Daily numbers\")\n",
    "print(glimpse.columns)\n",
    "glimpse.head()\n",
    "glimpse.plot(kind=\"bar\", x=\"Date\", y=[\"Posts\", \"Comments\", \"Reactions\"])\n",
    "plt.xticks(rotation=45)\n",
    "plt.show()"
   ]
  },
  {
   "cell_type": "code",
   "execution_count": 4,
   "metadata": {},
   "outputs": [
    {
     "name": "stdout",
     "output_type": "stream",
     "text": [
      "                                               Posts  \\\n",
      "0  Edit: \\nLudzie jesteście wspaniali!!! Mamy już...   \n",
      "1  #koronawirus#rozmowa#\\nCzy ktoś właśnie walczy...   \n",
      "2  16 zaleceń na czas pandemii\\n—-\\nDrogie osoby☝...   \n",
      "3  Drodzy,\\n\\nszukam pomocy dla bardzo samotnej P...   \n",
      "4  Czy jest tu jakaś dobra dusza z Rzeszowa, któr...   \n",
      "\n",
      "                         Member  Comments  Reactions  Views  \\\n",
      "0        Julia Ewa Hertmanowska       188        714  53593   \n",
      "1                 Ania Augustyn       136        649  48515   \n",
      "2                Filip Żulewski       106        777  33188   \n",
      "3   Kamilla Hertmanowska-Maniuk       107        693  45601   \n",
      "4  Izabela Zdolinska-Malinowska        40        439  40967   \n",
      "\n",
      "                                                Link  \n",
      "0  https://www.facebook.com/groups/widzialnareka/...  \n",
      "1  https://www.facebook.com/groups/widzialnareka/...  \n",
      "2  https://www.facebook.com/groups/widzialnareka/...  \n",
      "3  https://www.facebook.com/groups/widzialnareka/...  \n",
      "4  https://www.facebook.com/groups/widzialnareka/...  \n"
     ]
    }
   ],
   "source": [
    "# Use Google Tranlsate to translate content of posts.\n",
    "\n",
    "texts = pd.read_excel(\"data/Facebook_Group_Insights_10-25-2020.xlsx\", sheet_name=\"Top posts (last 28 days)\")\n",
    "print(texts.head())\n",
    "\n",
    "translator = Translator()\n",
    "\n",
    "eng_text = []\n",
    "\n",
    "for row in texts['Posts']: \n",
    "    if isinstance(row, str):\n",
    "        eng_text.append(translator.translate(row).text)\n",
    "    else:\n",
    "        eng_text.append(\"empty entry\")\n",
    "\n",
    "texts['Posts_en'] = eng_text\n"
   ]
  },
  {
   "cell_type": "code",
   "execution_count": 5,
   "metadata": {},
   "outputs": [
    {
     "data": {
      "text/html": [
       "<div>\n",
       "<style scoped>\n",
       "    .dataframe tbody tr th:only-of-type {\n",
       "        vertical-align: middle;\n",
       "    }\n",
       "\n",
       "    .dataframe tbody tr th {\n",
       "        vertical-align: top;\n",
       "    }\n",
       "\n",
       "    .dataframe thead th {\n",
       "        text-align: right;\n",
       "    }\n",
       "</style>\n",
       "<table border=\"1\" class=\"dataframe\">\n",
       "  <thead>\n",
       "    <tr style=\"text-align: right;\">\n",
       "      <th></th>\n",
       "      <th>Posts</th>\n",
       "      <th>Member</th>\n",
       "      <th>Comments</th>\n",
       "      <th>Reactions</th>\n",
       "      <th>Views</th>\n",
       "      <th>Link</th>\n",
       "      <th>Posts_en</th>\n",
       "    </tr>\n",
       "  </thead>\n",
       "  <tbody>\n",
       "    <tr>\n",
       "      <th>0</th>\n",
       "      <td>Edit: \\nLudzie jesteście wspaniali!!! Mamy już...</td>\n",
       "      <td>Julia Ewa Hertmanowska</td>\n",
       "      <td>188</td>\n",
       "      <td>714</td>\n",
       "      <td>53593</td>\n",
       "      <td>https://www.facebook.com/groups/widzialnareka/...</td>\n",
       "      <td>Edit:\\nYou guys are great !!! We already have ...</td>\n",
       "    </tr>\n",
       "    <tr>\n",
       "      <th>1</th>\n",
       "      <td>#koronawirus#rozmowa#\\nCzy ktoś właśnie walczy...</td>\n",
       "      <td>Ania Augustyn</td>\n",
       "      <td>136</td>\n",
       "      <td>649</td>\n",
       "      <td>48515</td>\n",
       "      <td>https://www.facebook.com/groups/widzialnareka/...</td>\n",
       "      <td># coronavirus # conversation #\\nIs anyone curr...</td>\n",
       "    </tr>\n",
       "    <tr>\n",
       "      <th>2</th>\n",
       "      <td>16 zaleceń na czas pandemii\\n—-\\nDrogie osoby☝...</td>\n",
       "      <td>Filip Żulewski</td>\n",
       "      <td>106</td>\n",
       "      <td>777</td>\n",
       "      <td>33188</td>\n",
       "      <td>https://www.facebook.com/groups/widzialnareka/...</td>\n",
       "      <td>16 recommendations for the time of a pandemic\\...</td>\n",
       "    </tr>\n",
       "    <tr>\n",
       "      <th>3</th>\n",
       "      <td>Drodzy,\\n\\nszukam pomocy dla bardzo samotnej P...</td>\n",
       "      <td>Kamilla Hertmanowska-Maniuk</td>\n",
       "      <td>107</td>\n",
       "      <td>693</td>\n",
       "      <td>45601</td>\n",
       "      <td>https://www.facebook.com/groups/widzialnareka/...</td>\n",
       "      <td>Dear\\n\\nI am looking for help for a very lonel...</td>\n",
       "    </tr>\n",
       "    <tr>\n",
       "      <th>4</th>\n",
       "      <td>Czy jest tu jakaś dobra dusza z Rzeszowa, któr...</td>\n",
       "      <td>Izabela Zdolinska-Malinowska</td>\n",
       "      <td>40</td>\n",
       "      <td>439</td>\n",
       "      <td>40967</td>\n",
       "      <td>https://www.facebook.com/groups/widzialnareka/...</td>\n",
       "      <td>Is there any good soul from Rzeszów who would ...</td>\n",
       "    </tr>\n",
       "  </tbody>\n",
       "</table>\n",
       "</div>"
      ],
      "text/plain": [
       "                                               Posts  \\\n",
       "0  Edit: \\nLudzie jesteście wspaniali!!! Mamy już...   \n",
       "1  #koronawirus#rozmowa#\\nCzy ktoś właśnie walczy...   \n",
       "2  16 zaleceń na czas pandemii\\n—-\\nDrogie osoby☝...   \n",
       "3  Drodzy,\\n\\nszukam pomocy dla bardzo samotnej P...   \n",
       "4  Czy jest tu jakaś dobra dusza z Rzeszowa, któr...   \n",
       "\n",
       "                         Member  Comments  Reactions  Views  \\\n",
       "0        Julia Ewa Hertmanowska       188        714  53593   \n",
       "1                 Ania Augustyn       136        649  48515   \n",
       "2                Filip Żulewski       106        777  33188   \n",
       "3   Kamilla Hertmanowska-Maniuk       107        693  45601   \n",
       "4  Izabela Zdolinska-Malinowska        40        439  40967   \n",
       "\n",
       "                                                Link  \\\n",
       "0  https://www.facebook.com/groups/widzialnareka/...   \n",
       "1  https://www.facebook.com/groups/widzialnareka/...   \n",
       "2  https://www.facebook.com/groups/widzialnareka/...   \n",
       "3  https://www.facebook.com/groups/widzialnareka/...   \n",
       "4  https://www.facebook.com/groups/widzialnareka/...   \n",
       "\n",
       "                                            Posts_en  \n",
       "0  Edit:\\nYou guys are great !!! We already have ...  \n",
       "1  # coronavirus # conversation #\\nIs anyone curr...  \n",
       "2  16 recommendations for the time of a pandemic\\...  \n",
       "3  Dear\\n\\nI am looking for help for a very lonel...  \n",
       "4  Is there any good soul from Rzeszów who would ...  "
      ]
     },
     "execution_count": 5,
     "metadata": {},
     "output_type": "execute_result"
    }
   ],
   "source": [
    "texts.head()"
   ]
  },
  {
   "cell_type": "code",
   "execution_count": 35,
   "metadata": {},
   "outputs": [
    {
     "name": "stdout",
     "output_type": "stream",
     "text": [
      "Word count before stopword filter applied: 10595\n",
      "Word counter after stopword filter applied: 4188\n"
     ]
    }
   ],
   "source": [
    "# In order to to word popularity chart, we will collapse all the entries in to one, split into list and remove stopwords from given list.\n",
    "\n",
    "eng_entries = texts['Posts_en'].str.cat(sep=' ')\n",
    "eng_tokens = word_tokenize(eng_entry_list)\n",
    "print(f\"Word count before stopword filter applied: {len(eng_tokens)}\")\n",
    "eng_entry_no_sw = [word for word in eng_tokens if word.isalnum()]\n",
    "eng_entry_no_sw = [word.lower() for word in eng_tokens]\n",
    "eng_entry_clean = [word for word in eng_entry_no_sw  if not word in stopwords.words()]\n",
    "print(f\"Word counter after stopword filter applied: {len(eng_entry_clean)}\")"
   ]
  },
  {
   "cell_type": "code",
   "execution_count": 51,
   "metadata": {},
   "outputs": [],
   "source": [
    "# As we've got our bag of words ready, Counter will be applied to create a dictionary of words from most popular down.\n",
    "\n",
    "words_count = Counter(eng_entry_clean)\n",
    "top_words = pd.DataFrame.from_dict(words_count, orient='index').reset_index()\n",
    "top_words = top_words.rename(columns={'index':'word', 0:'count'})\n",
    "top_words = top_words.sort_values(by='count', ascending=False)\n",
    "top_words.reset_index(drop=True)\n",
    "top_20 = top_words.iloc[0:20]"
   ]
  },
  {
   "cell_type": "code",
   "execution_count": 58,
   "metadata": {},
   "outputs": [
    {
     "name": "stdout",
     "output_type": "stream",
     "text": [
      "    word  count\n",
      "    help     93\n",
      "   group     83\n",
      "   https     66\n",
      "  people     46\n",
      "    need     38\n",
      "    post     36\n",
      "   would     35\n",
      "    hand     23\n",
      "  warsaw     21\n",
      "      us     20\n",
      "    know     20\n",
      " visible     19\n",
      "    good     19\n",
      "   thank     19\n",
      " someone     18\n",
      " support     18\n",
      " looking     17\n",
      "   needs     17\n",
      "    like     16\n",
      "  groups     16\n"
     ]
    },
    {
     "data": {
      "image/png": "[encoded data removed]",
      "text/plain": [
       "<Figure size 432x288 with 1 Axes>"
      ]
     },
     "metadata": {
      "needs_background": "light"
     },
     "output_type": "display_data"
    }
   ],
   "source": [
    "# In the final step we will prepare a neat presentation of colected data, including a chart.\n",
    "\n",
    "print(top_20.to_string(index=False))\n",
    "top_20.plot(kind=\"bar\", x=\"word\", y=\"count\")\n",
    "plt.xticks(rotation=45)\n",
    "plt.show()"
   ]
  }
 ],
 "metadata": {
  "kernelspec": {
   "display_name": "Python 3",
   "language": "python",
   "name": "python3"
  },
  "language_info": {
   "codemirror_mode": {
    "name": "ipython",
    "version": 3
   },
   "file_extension": ".py",
   "mimetype": "text/x-python",
   "name": "python",
   "nbconvert_exporter": "python",
   "pygments_lexer": "ipython3",
   "version": "3.8.5"
  }
 },
 "nbformat": 4,
 "nbformat_minor": 4
}
